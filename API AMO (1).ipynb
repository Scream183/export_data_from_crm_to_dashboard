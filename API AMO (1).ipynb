{
 "cells": [
  {
   "cell_type": "code",
   "execution_count": 3,
   "id": "6ae25cfb",
   "metadata": {},
   "outputs": [],
   "source": [
    "from selenium.webdriver import Chrome\n",
    "from selenium.webdriver.common.by import By\n",
    "from selenium.webdriver.common.keys import Keys\n",
    "from selenium.webdriver.support.ui import Select\n",
    "from time import sleep\n",
    "import requests as r\n",
    "from PIL import Image\n",
    "import win32com.client as win32\n",
    "from python_anticaptcha import AnticaptchaClient, ImageToTextTask\n",
    "import pandas as pd\n",
    "import datetime\n",
    "import pygsheets\n",
    "import gspread_dataframe as gd\n",
    "import os\n",
    "import schedule\n",
    "import numpy as np"
   ]
  },
  {
   "cell_type": "code",
   "execution_count": null,
   "id": "7eff8044",
   "metadata": {},
   "outputs": [],
   "source": [
    "def export_amo(way, login1, password1, url1):\n",
    "    day = datetime.datetime.now().strftime(\"%Y-%m-%d\")\n",
    "    file_name = f'\\\\amocrm_export_leads_{day}.csv'\n",
    "    way_dowload = f'C:\\\\Users\\\\79651\\\\Downloads{file_name}'\n",
    "    for i in os.listdir(r'C:\\Users\\79651\\Downloads'):\n",
    "        if f'amocrm_export_leads_{day}.csv' == i:\n",
    "            os.remove(way_dowload)\n",
    "            \n",
    "    browser = Chrome(way + '\\Desktop\\chromedriver.exe')\n",
    "    url = url1\n",
    "    browser.get(url)\n",
    "    \n",
    "    sleep(2)\n",
    "    \n",
    "    login = browser.find_element(By.ID,'session_end_login')\n",
    "    login.send_keys(login1)\n",
    "    password = browser.find_element(By.NAME,'password')\n",
    "    password.send_keys(password1)\n",
    "    \n",
    "    sleep(1)\n",
    "    \n",
    "    browser.find_element(By.ID,'auth_submit').click()\n",
    "    \n",
    "    sleep(1)\n",
    "    \n",
    "    browser.find_element(By.ID,'search_input').click()\n",
    "    \n",
    "    sleep(2)\n",
    "    \n",
    "    browser.find_element(By.XPATH,('//*[@id=\"filter_fields\"]/div[3]/div/div/div[2]/span[1]/span/div')).click()\n",
    "    \n",
    "    sleep(2)\n",
    "    \n",
    "    browser.find_element(By.XPATH,(\"//div[@title = 'Выбрать всё']\")).click()\n",
    "    \n",
    "    sleep(2)\n",
    "    \n",
    "    browser.find_element(By.XPATH,(\"//div[@title = 'Выбрать всё']\")).click()\n",
    "    \n",
    "    sleep(2)\n",
    "    \n",
    "    browser.find_elements(By.CLASS_NAME,'button-input-inner ')[2].click()\n",
    "    \n",
    "    sleep(5)\n",
    "    \n",
    "    browser.find_element(By.XPATH,(\"//button[@title = 'Еще']\")).click()\n",
    "    \n",
    "    sleep(2)\n",
    "    \n",
    "    browser.find_element(By.XPATH,('//*[@id=\"list__body-right\"]/div[1]/div[3]/div/div/ul/li[3]/div')).click()\n",
    "    \n",
    "    sleep(2)\n",
    "    \n",
    "    browser.find_element(By.XPATH,(\"//label[@for = 'export_csv']\")).click()\n",
    "    \n",
    "    sleep(2)                    \n",
    "    \n",
    "    browser.find_element(By.XPATH,('/html/body/div[12]/div[1]/div/div/div[2]/label[2]/div[2]/div[3]/button')).click()\n",
    "    \n",
    "    sleep(2)\n",
    "    \n",
    "    browser.find_elements(By.XPATH,(\"//span[@title = ' с активным фильтром']\"))[1].click()\n",
    "    \n",
    "    sleep(2)\n",
    "    \n",
    "    browser.find_elements(By.CLASS_NAME,'button-input_blue')[2].click()\n",
    "    \n",
    "    sleep(20)\n",
    "    \n",
    "    browser.find_element(By.XPATH,('/html/body/div[13]/div[1]/div/div/div[2]/a/button/span/span')).click()\n",
    "    \n",
    "    sleep(10)"
   ]
  },
  {
   "cell_type": "code",
   "execution_count": 5,
   "id": "14d5b33e",
   "metadata": {},
   "outputs": [],
   "source": [
    "def export_to_googlesheets(way_dowload):\n",
    "    df=pd.read_csv(way_dowload)\n",
    "    df['ЛС в обслуживании'] = df['ЛС в обслуживании'].fillna(0).astype(int)\n",
    "    df = df.fillna(' ')\n",
    "    df['Дата закрытия'] = df['Дата закрытия'].replace('не закрыта', '')\n",
    "    df['Причина отказа'] = df['Этап сделки'].str.split('(',expand=True)[1].str.strip(')')\n",
    "    df['Этап сделки'] = df['Этап сделки'].str.split('(',expand=True)[0]\n",
    "    client = pygsheets.authorize(r'C:\\Users\\79651\\Downloads\\client_secret_481353108653-sael12rlravq7omb9inlspgn07sailet.apps.googleusercontent.com.json')\n",
    "    print(client)\n",
    "    sh = client.open('777')\n",
    "    wks = sh.sheet1\n",
    "    wks.clear()\n",
    "    wks.set_dataframe(df, (1,1), encoding='utf-8', fit=True)"
   ]
  },
  {
   "cell_type": "code",
   "execution_count": null,
   "id": "8742117f",
   "metadata": {},
   "outputs": [],
   "source": [
    "day = datetime.datetime.now()\n",
    "day = day.strftime(\"%Y-%m-%d\")\n",
    "way = r'C:\\Users\\79651'\n",
    "url1 = 'https://domyland1.amocrm.ru/leads/pipeline/3639910/'\n",
    "login1 = 'a.yusupov@domyland.ru'\n",
    "password1 = 'Amsterdamm0725'\n",
    "file_name = f'\\\\amocrm_export_leads_{day}.csv'\n",
    "export_amo(way, login1, password1, url1)"
   ]
  },
  {
   "cell_type": "code",
   "execution_count": 6,
   "id": "3016a14c",
   "metadata": {},
   "outputs": [
    {
     "name": "stderr",
     "output_type": "stream",
     "text": [
      "C:\\Users\\79651\\AppData\\Local\\Temp\\ipykernel_21452\\1489685477.py:6: PerformanceWarning: DataFrame is highly fragmented.  This is usually the result of calling `frame.insert` many times, which has poor performance.  Consider joining all columns at once using pd.concat(axis=1) instead. To get a de-fragmented frame, use `newframe = frame.copy()`\n",
      "  df['Причина отказа'] = df['Этап сделки'].str.split('(',expand=True)[1].str.strip(')')\n"
     ]
    },
   ],
   "source": [
    "day = datetime.datetime.now()\n",
    "day = day.strftime(\"%Y-%m-%d\")\n",
    "file_name = f'\\\\amocrm_export_leads_{day}.csv'\n",
    "way_dowload = f'C:\\\\Users\\\\79651\\\\Downloads{file_name}'\n",
    "export_to_googlesheets(way_dowload)"
   ]
  },
  {
   "cell_type": "code",
   "execution_count": null,
   "id": "167b69b5",
   "metadata": {},
   "outputs": [],
   "source": [
    "schedule.every(1).hour.do(export_amo,way = r'C:\\Users\\79651', login1 = 'a.yusupov@domyland.ru', password1 = 'Amsterdamm0725', url1 = 'https://domyland1.amocrm.ru/leads/pipeline/3639910/')"
   ]
  },
  {
   "cell_type": "code",
   "execution_count": null,
   "id": "26b7ac84",
   "metadata": {},
   "outputs": [],
   "source": [
    "while True:\n",
    "    schedule.run_pending()"
   ]
  },
  {
   "cell_type": "code",
   "execution_count": null,
   "id": "5f4821ba",
   "metadata": {},
   "outputs": [],
   "source": [
    "for i in os.listdir(r'C:\\Users\\79651\\Downloads'):\n",
    "    if f'amocrm_export_leads_{day}.csv' == i:\n",
    "           print(1)\n",
    "       # else:\n",
    "            #print(f'amocrm_export_leads_{day}')"
   ]
  },
  {
   "cell_type": "code",
   "execution_count": null,
   "id": "91da83ca",
   "metadata": {},
   "outputs": [],
   "source": []
  }
 ],
 "metadata": {
  "kernelspec": {
   "display_name": "Python 3 (ipykernel)",
   "language": "python",
   "name": "python3"
  },
  "language_info": {
   "codemirror_mode": {
    "name": "ipython",
    "version": 3
   },
   "file_extension": ".py",
   "mimetype": "text/x-python",
   "name": "python",
   "nbconvert_exporter": "python",
   "pygments_lexer": "ipython3",
   "version": "3.9.12"
  }
 },
 "nbformat": 4,
 "nbformat_minor": 5
}
