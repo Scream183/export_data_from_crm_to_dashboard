{
 "cells": [
  {
   "cell_type": "code",
   "execution_count": 3,
   "id": "6ae25cfb",
   "metadata": {},
   "outputs": [],
   "source": [
    "from selenium.webdriver import Chrome\n",
    "from selenium.webdriver.common.by import By\n",
    "from selenium.webdriver.common.keys import Keys\n",
    "from selenium.webdriver.support.ui import Select\n",
    "from time import sleep\n",
    "import requests as r\n",
    "from PIL import Image\n",
    "import win32com.client as win32\n",
    "from python_anticaptcha import AnticaptchaClient, ImageToTextTask\n",
    "import pandas as pd\n",
    "import datetime\n",
    "import pygsheets\n",
    "import gspread_dataframe as gd\n",
    "import os\n",
    "import schedule\n",
    "import numpy as np"
   ]
  },
  {
   "cell_type": "code",
   "execution_count": null,
   "id": "7eff8044",
   "metadata": {},
   "outputs": [],
   "source": [
    "def export_amo(way, login1, password1, url1):\n",
    "    day = datetime.datetime.now().strftime(\"%Y-%m-%d\")\n",
    "    file_name = f'\\\\amocrm_export_leads_{day}.csv'\n",
    "    way_dowload = f'C:\\\\Users\\\\79651\\\\Downloads{file_name}'\n",
    "    for i in os.listdir(r'C:\\Users\\79651\\Downloads'):\n",
    "        if f'amocrm_export_leads_{day}.csv' == i:\n",
    "            os.remove(way_dowload)\n",
    "            \n",
    "    browser = Chrome(way + '\\Desktop\\chromedriver.exe')\n",
    "    url = url1\n",
    "    browser.get(url)\n",
    "    \n",
    "    sleep(2)\n",
    "    \n",
    "    login = browser.find_element(By.ID,'session_end_login')\n",
    "    login.send_keys(login1)\n",
    "    password = browser.find_element(By.NAME,'password')\n",
    "    password.send_keys(password1)\n",
    "    \n",
    "    sleep(1)\n",
    "    \n",
    "    browser.find_element(By.ID,'auth_submit').click()\n",
    "    \n",
    "    sleep(1)\n",
    "    \n",
    "    browser.find_element(By.ID,'search_input').click()\n",
    "    \n",
    "    sleep(2)\n",
    "    \n",
    "    browser.find_element(By.XPATH,('//*[@id=\"filter_fields\"]/div[3]/div/div/div[2]/span[1]/span/div')).click()\n",
    "    \n",
    "    sleep(2)\n",
    "    \n",
    "    browser.find_element(By.XPATH,(\"//div[@title = 'Выбрать всё']\")).click()\n",
    "    \n",
    "    sleep(2)\n",
    "    \n",
    "    browser.find_element(By.XPATH,(\"//div[@title = 'Выбрать всё']\")).click()\n",
    "    \n",
    "    sleep(2)\n",
    "    \n",
    "    browser.find_elements(By.CLASS_NAME,'button-input-inner ')[2].click()\n",
    "    \n",
    "    sleep(5)\n",
    "    \n",
    "    browser.find_element(By.XPATH,(\"//button[@title = 'Еще']\")).click()\n",
    "    \n",
    "    sleep(2)\n",
    "    \n",
    "    browser.find_element(By.XPATH,('//*[@id=\"list__body-right\"]/div[1]/div[3]/div/div/ul/li[3]/div')).click()\n",
    "    \n",
    "    sleep(2)\n",
    "    \n",
    "    browser.find_element(By.XPATH,(\"//label[@for = 'export_csv']\")).click()\n",
    "    \n",
    "    sleep(2)                    \n",
    "    \n",
    "    browser.find_element(By.XPATH,('/html/body/div[12]/div[1]/div/div/div[2]/label[2]/div[2]/div[3]/button')).click()\n",
    "    \n",
    "    sleep(2)\n",
    "    \n",
    "    browser.find_elements(By.XPATH,(\"//span[@title = ' с активным фильтром']\"))[1].click()\n",
    "    \n",
    "    sleep(2)\n",
    "    \n",
    "    browser.find_elements(By.CLASS_NAME,'button-input_blue')[2].click()\n",
    "    \n",
    "    sleep(20)\n",
    "    \n",
    "    browser.find_element(By.XPATH,('/html/body/div[13]/div[1]/div/div/div[2]/a/button/span/span')).click()\n",
    "    \n",
    "    sleep(10)"
   ]
  },
  {
   "cell_type": "code",
   "execution_count": 5,
   "id": "14d5b33e",
   "metadata": {},
   "outputs": [],
   "source": [
    "def export_to_googlesheets(way_dowload):\n",
    "    df=pd.read_csv(way_dowload)\n",
    "    df['ЛС в обслуживании'] = df['ЛС в обслуживании'].fillna(0).astype(int)\n",
    "    df = df.fillna(' ')\n",
    "    df['Дата закрытия'] = df['Дата закрытия'].replace('не закрыта', '')\n",
    "    df['Причина отказа'] = df['Этап сделки'].str.split('(',expand=True)[1].str.strip(')')\n",
    "    df['Этап сделки'] = df['Этап сделки'].str.split('(',expand=True)[0]\n",
    "    client = pygsheets.authorize(r'C:\\Users\\79651\\Downloads\\client_secret_481353108653-sael12rlravq7omb9inlspgn07sailet.apps.googleusercontent.com.json')\n",
    "    print(client)\n",
    "    sh = client.open('777')\n",
    "    #wks = sh.sheet1\n",
    "    #wks.clear()\n",
    "    #wks.set_dataframe(df, (1,1), encoding='utf-8', fit=True)"
   ]
  },
  {
   "cell_type": "code",
   "execution_count": null,
   "id": "8742117f",
   "metadata": {},
   "outputs": [],
   "source": [
    "day = datetime.datetime.now()\n",
    "day = day.strftime(\"%Y-%m-%d\")\n",
    "way = r'C:\\Users\\79651'\n",
    "url1 = 'https://domyland1.amocrm.ru/leads/pipeline/3639910/'\n",
    "login1 = 'a.yusupov@domyland.ru'\n",
    "password1 = 'Amsterdamm0725'\n",
    "file_name = f'\\\\amocrm_export_leads_{day}.csv'\n",
    "#export_amo(way, login1, password1, url1)"
   ]
  },
  {
   "cell_type": "code",
   "execution_count": 6,
   "id": "3016a14c",
   "metadata": {},
   "outputs": [
    {
     "name": "stderr",
     "output_type": "stream",
     "text": [
      "C:\\Users\\79651\\AppData\\Local\\Temp\\ipykernel_21452\\1489685477.py:6: PerformanceWarning: DataFrame is highly fragmented.  This is usually the result of calling `frame.insert` many times, which has poor performance.  Consider joining all columns at once using pd.concat(axis=1) instead. To get a de-fragmented frame, use `newframe = frame.copy()`\n",
      "  df['Причина отказа'] = df['Этап сделки'].str.split('(',expand=True)[1].str.strip(')')\n"
     ]
    },
    {
     "ename": "RefreshError",
     "evalue": "('invalid_grant: Token has been expired or revoked.', {'error': 'invalid_grant', 'error_description': 'Token has been expired or revoked.'})",
     "output_type": "error",
     "traceback": [
      "\u001b[1;31m---------------------------------------------------------------------------\u001b[0m",
      "\u001b[1;31mRefreshError\u001b[0m                              Traceback (most recent call last)",
      "Input \u001b[1;32mIn [6]\u001b[0m, in \u001b[0;36m<cell line: 5>\u001b[1;34m()\u001b[0m\n\u001b[0;32m      3\u001b[0m file_name \u001b[38;5;241m=\u001b[39m \u001b[38;5;124mf\u001b[39m\u001b[38;5;124m'\u001b[39m\u001b[38;5;130;01m\\\\\u001b[39;00m\u001b[38;5;124mamocrm_export_leads_\u001b[39m\u001b[38;5;132;01m{\u001b[39;00mday\u001b[38;5;132;01m}\u001b[39;00m\u001b[38;5;124m.csv\u001b[39m\u001b[38;5;124m'\u001b[39m\n\u001b[0;32m      4\u001b[0m way_dowload \u001b[38;5;241m=\u001b[39m \u001b[38;5;124mf\u001b[39m\u001b[38;5;124m'\u001b[39m\u001b[38;5;124mC:\u001b[39m\u001b[38;5;130;01m\\\\\u001b[39;00m\u001b[38;5;124mUsers\u001b[39m\u001b[38;5;130;01m\\\\\u001b[39;00m\u001b[38;5;124m79651\u001b[39m\u001b[38;5;130;01m\\\\\u001b[39;00m\u001b[38;5;124mDownloads\u001b[39m\u001b[38;5;132;01m{\u001b[39;00mfile_name\u001b[38;5;132;01m}\u001b[39;00m\u001b[38;5;124m'\u001b[39m\n\u001b[1;32m----> 5\u001b[0m \u001b[43mexport_to_googlesheets\u001b[49m\u001b[43m(\u001b[49m\u001b[43mway_dowload\u001b[49m\u001b[43m)\u001b[49m\n",
      "Input \u001b[1;32mIn [5]\u001b[0m, in \u001b[0;36mexport_to_googlesheets\u001b[1;34m(way_dowload)\u001b[0m\n\u001b[0;32m      6\u001b[0m df[\u001b[38;5;124m'\u001b[39m\u001b[38;5;124mПричина отказа\u001b[39m\u001b[38;5;124m'\u001b[39m] \u001b[38;5;241m=\u001b[39m df[\u001b[38;5;124m'\u001b[39m\u001b[38;5;124mЭтап сделки\u001b[39m\u001b[38;5;124m'\u001b[39m]\u001b[38;5;241m.\u001b[39mstr\u001b[38;5;241m.\u001b[39msplit(\u001b[38;5;124m'\u001b[39m\u001b[38;5;124m(\u001b[39m\u001b[38;5;124m'\u001b[39m,expand\u001b[38;5;241m=\u001b[39m\u001b[38;5;28;01mTrue\u001b[39;00m)[\u001b[38;5;241m1\u001b[39m]\u001b[38;5;241m.\u001b[39mstr\u001b[38;5;241m.\u001b[39mstrip(\u001b[38;5;124m'\u001b[39m\u001b[38;5;124m)\u001b[39m\u001b[38;5;124m'\u001b[39m)\n\u001b[0;32m      7\u001b[0m df[\u001b[38;5;124m'\u001b[39m\u001b[38;5;124mЭтап сделки\u001b[39m\u001b[38;5;124m'\u001b[39m] \u001b[38;5;241m=\u001b[39m df[\u001b[38;5;124m'\u001b[39m\u001b[38;5;124mЭтап сделки\u001b[39m\u001b[38;5;124m'\u001b[39m]\u001b[38;5;241m.\u001b[39mstr\u001b[38;5;241m.\u001b[39msplit(\u001b[38;5;124m'\u001b[39m\u001b[38;5;124m(\u001b[39m\u001b[38;5;124m'\u001b[39m,expand\u001b[38;5;241m=\u001b[39m\u001b[38;5;28;01mTrue\u001b[39;00m)[\u001b[38;5;241m0\u001b[39m]\n\u001b[1;32m----> 8\u001b[0m client \u001b[38;5;241m=\u001b[39m \u001b[43mpygsheets\u001b[49m\u001b[38;5;241;43m.\u001b[39;49m\u001b[43mauthorize\u001b[49m\u001b[43m(\u001b[49m\u001b[38;5;124;43mr\u001b[39;49m\u001b[38;5;124;43m'\u001b[39;49m\u001b[38;5;124;43mC:\u001b[39;49m\u001b[38;5;124;43m\\\u001b[39;49m\u001b[38;5;124;43mUsers\u001b[39;49m\u001b[38;5;124;43m\\\u001b[39;49m\u001b[38;5;124;43m79651\u001b[39;49m\u001b[38;5;124;43m\\\u001b[39;49m\u001b[38;5;124;43mDownloads\u001b[39;49m\u001b[38;5;124;43m\\\u001b[39;49m\u001b[38;5;124;43mclient_secret_481353108653-sael12rlravq7omb9inlspgn07sailet.apps.googleusercontent.com.json\u001b[39;49m\u001b[38;5;124;43m'\u001b[39;49m\u001b[43m)\u001b[49m\n\u001b[0;32m      9\u001b[0m \u001b[38;5;28mprint\u001b[39m(client)\n\u001b[0;32m     10\u001b[0m sh \u001b[38;5;241m=\u001b[39m client\u001b[38;5;241m.\u001b[39mopen(\u001b[38;5;124m'\u001b[39m\u001b[38;5;124m777\u001b[39m\u001b[38;5;124m'\u001b[39m)\n",
      "File \u001b[1;32m~\\anaconda3\\lib\\site-packages\\pygsheets\\authorization.py:129\u001b[0m, in \u001b[0;36mauthorize\u001b[1;34m(client_secret, service_account_file, service_account_env_var, credentials_directory, scopes, custom_credentials, local, **kwargs)\u001b[0m\n\u001b[0;32m    127\u001b[0m     credentials \u001b[38;5;241m=\u001b[39m service_account\u001b[38;5;241m.\u001b[39mCredentials\u001b[38;5;241m.\u001b[39mfrom_service_account_file(service_account_file, scopes\u001b[38;5;241m=\u001b[39mscopes)\n\u001b[0;32m    128\u001b[0m \u001b[38;5;28;01melse\u001b[39;00m:\n\u001b[1;32m--> 129\u001b[0m     credentials \u001b[38;5;241m=\u001b[39m \u001b[43m_get_user_authentication_credentials\u001b[49m\u001b[43m(\u001b[49m\u001b[43mclient_secret\u001b[49m\u001b[43m,\u001b[49m\u001b[43m \u001b[49m\u001b[43mscopes\u001b[49m\u001b[43m,\u001b[49m\u001b[43m \u001b[49m\u001b[43mcredentials_directory\u001b[49m\u001b[43m,\u001b[49m\u001b[43m \u001b[49m\u001b[43mlocal\u001b[49m\u001b[43m)\u001b[49m\n\u001b[0;32m    131\u001b[0m \u001b[38;5;28;01mreturn\u001b[39;00m Client(credentials, \u001b[38;5;241m*\u001b[39m\u001b[38;5;241m*\u001b[39mkwargs)\n",
      "File \u001b[1;32m~\\anaconda3\\lib\\site-packages\\pygsheets\\authorization.py:40\u001b[0m, in \u001b[0;36m_get_user_authentication_credentials\u001b[1;34m(client_secret_file, scopes, credential_directory, local)\u001b[0m\n\u001b[0;32m     38\u001b[0m \u001b[38;5;28;01mif\u001b[39;00m credentials:\n\u001b[0;32m     39\u001b[0m     \u001b[38;5;28;01mif\u001b[39;00m credentials\u001b[38;5;241m.\u001b[39mexpired \u001b[38;5;129;01mand\u001b[39;00m credentials\u001b[38;5;241m.\u001b[39mrefresh_token:\n\u001b[1;32m---> 40\u001b[0m         \u001b[43mcredentials\u001b[49m\u001b[38;5;241;43m.\u001b[39;49m\u001b[43mrefresh\u001b[49m\u001b[43m(\u001b[49m\u001b[43mRequest\u001b[49m\u001b[43m(\u001b[49m\u001b[43m)\u001b[49m\u001b[43m)\u001b[49m\n\u001b[0;32m     41\u001b[0m \u001b[38;5;28;01melse\u001b[39;00m:\n\u001b[0;32m     42\u001b[0m     \u001b[38;5;28;01mif\u001b[39;00m local:\n",
      "File \u001b[1;32m~\\anaconda3\\lib\\site-packages\\google\\oauth2\\credentials.py:319\u001b[0m, in \u001b[0;36mCredentials.refresh\u001b[1;34m(self, request)\u001b[0m\n\u001b[0;32m    301\u001b[0m \u001b[38;5;28;01mif\u001b[39;00m (\n\u001b[0;32m    302\u001b[0m     \u001b[38;5;28mself\u001b[39m\u001b[38;5;241m.\u001b[39m_refresh_token \u001b[38;5;129;01mis\u001b[39;00m \u001b[38;5;28;01mNone\u001b[39;00m\n\u001b[0;32m    303\u001b[0m     \u001b[38;5;129;01mor\u001b[39;00m \u001b[38;5;28mself\u001b[39m\u001b[38;5;241m.\u001b[39m_token_uri \u001b[38;5;129;01mis\u001b[39;00m \u001b[38;5;28;01mNone\u001b[39;00m\n\u001b[0;32m    304\u001b[0m     \u001b[38;5;129;01mor\u001b[39;00m \u001b[38;5;28mself\u001b[39m\u001b[38;5;241m.\u001b[39m_client_id \u001b[38;5;129;01mis\u001b[39;00m \u001b[38;5;28;01mNone\u001b[39;00m\n\u001b[0;32m    305\u001b[0m     \u001b[38;5;129;01mor\u001b[39;00m \u001b[38;5;28mself\u001b[39m\u001b[38;5;241m.\u001b[39m_client_secret \u001b[38;5;129;01mis\u001b[39;00m \u001b[38;5;28;01mNone\u001b[39;00m\n\u001b[0;32m    306\u001b[0m ):\n\u001b[0;32m    307\u001b[0m     \u001b[38;5;28;01mraise\u001b[39;00m exceptions\u001b[38;5;241m.\u001b[39mRefreshError(\n\u001b[0;32m    308\u001b[0m         \u001b[38;5;124m\"\u001b[39m\u001b[38;5;124mThe credentials do not contain the necessary fields need to \u001b[39m\u001b[38;5;124m\"\u001b[39m\n\u001b[0;32m    309\u001b[0m         \u001b[38;5;124m\"\u001b[39m\u001b[38;5;124mrefresh the access token. You must specify refresh_token, \u001b[39m\u001b[38;5;124m\"\u001b[39m\n\u001b[0;32m    310\u001b[0m         \u001b[38;5;124m\"\u001b[39m\u001b[38;5;124mtoken_uri, client_id, and client_secret.\u001b[39m\u001b[38;5;124m\"\u001b[39m\n\u001b[0;32m    311\u001b[0m     )\n\u001b[0;32m    313\u001b[0m (\n\u001b[0;32m    314\u001b[0m     access_token,\n\u001b[0;32m    315\u001b[0m     refresh_token,\n\u001b[0;32m    316\u001b[0m     expiry,\n\u001b[0;32m    317\u001b[0m     grant_response,\n\u001b[0;32m    318\u001b[0m     rapt_token,\n\u001b[1;32m--> 319\u001b[0m ) \u001b[38;5;241m=\u001b[39m \u001b[43mreauth\u001b[49m\u001b[38;5;241;43m.\u001b[39;49m\u001b[43mrefresh_grant\u001b[49m\u001b[43m(\u001b[49m\n\u001b[0;32m    320\u001b[0m \u001b[43m    \u001b[49m\u001b[43mrequest\u001b[49m\u001b[43m,\u001b[49m\n\u001b[0;32m    321\u001b[0m \u001b[43m    \u001b[49m\u001b[38;5;28;43mself\u001b[39;49m\u001b[38;5;241;43m.\u001b[39;49m\u001b[43m_token_uri\u001b[49m\u001b[43m,\u001b[49m\n\u001b[0;32m    322\u001b[0m \u001b[43m    \u001b[49m\u001b[38;5;28;43mself\u001b[39;49m\u001b[38;5;241;43m.\u001b[39;49m\u001b[43m_refresh_token\u001b[49m\u001b[43m,\u001b[49m\n\u001b[0;32m    323\u001b[0m \u001b[43m    \u001b[49m\u001b[38;5;28;43mself\u001b[39;49m\u001b[38;5;241;43m.\u001b[39;49m\u001b[43m_client_id\u001b[49m\u001b[43m,\u001b[49m\n\u001b[0;32m    324\u001b[0m \u001b[43m    \u001b[49m\u001b[38;5;28;43mself\u001b[39;49m\u001b[38;5;241;43m.\u001b[39;49m\u001b[43m_client_secret\u001b[49m\u001b[43m,\u001b[49m\n\u001b[0;32m    325\u001b[0m \u001b[43m    \u001b[49m\u001b[43mscopes\u001b[49m\u001b[38;5;241;43m=\u001b[39;49m\u001b[43mscopes\u001b[49m\u001b[43m,\u001b[49m\n\u001b[0;32m    326\u001b[0m \u001b[43m    \u001b[49m\u001b[43mrapt_token\u001b[49m\u001b[38;5;241;43m=\u001b[39;49m\u001b[38;5;28;43mself\u001b[39;49m\u001b[38;5;241;43m.\u001b[39;49m\u001b[43m_rapt_token\u001b[49m\u001b[43m,\u001b[49m\n\u001b[0;32m    327\u001b[0m \u001b[43m    \u001b[49m\u001b[43menable_reauth_refresh\u001b[49m\u001b[38;5;241;43m=\u001b[39;49m\u001b[38;5;28;43mself\u001b[39;49m\u001b[38;5;241;43m.\u001b[39;49m\u001b[43m_enable_reauth_refresh\u001b[49m\u001b[43m,\u001b[49m\n\u001b[0;32m    328\u001b[0m \u001b[43m\u001b[49m\u001b[43m)\u001b[49m\n\u001b[0;32m    330\u001b[0m \u001b[38;5;28mself\u001b[39m\u001b[38;5;241m.\u001b[39mtoken \u001b[38;5;241m=\u001b[39m access_token\n\u001b[0;32m    331\u001b[0m \u001b[38;5;28mself\u001b[39m\u001b[38;5;241m.\u001b[39mexpiry \u001b[38;5;241m=\u001b[39m expiry\n",
      "File \u001b[1;32m~\\anaconda3\\lib\\site-packages\\google\\oauth2\\reauth.py:349\u001b[0m, in \u001b[0;36mrefresh_grant\u001b[1;34m(request, token_uri, refresh_token, client_id, client_secret, scopes, rapt_token, enable_reauth_refresh)\u001b[0m\n\u001b[0;32m    342\u001b[0m     (\n\u001b[0;32m    343\u001b[0m         response_status_ok,\n\u001b[0;32m    344\u001b[0m         response_data,\n\u001b[0;32m    345\u001b[0m         retryable_error,\n\u001b[0;32m    346\u001b[0m     ) \u001b[38;5;241m=\u001b[39m _client\u001b[38;5;241m.\u001b[39m_token_endpoint_request_no_throw(request, token_uri, body)\n\u001b[0;32m    348\u001b[0m \u001b[38;5;28;01mif\u001b[39;00m \u001b[38;5;129;01mnot\u001b[39;00m response_status_ok:\n\u001b[1;32m--> 349\u001b[0m     \u001b[43m_client\u001b[49m\u001b[38;5;241;43m.\u001b[39;49m\u001b[43m_handle_error_response\u001b[49m\u001b[43m(\u001b[49m\u001b[43mresponse_data\u001b[49m\u001b[43m,\u001b[49m\u001b[43m \u001b[49m\u001b[43mretryable_error\u001b[49m\u001b[43m)\u001b[49m\n\u001b[0;32m    350\u001b[0m \u001b[38;5;28;01mreturn\u001b[39;00m _client\u001b[38;5;241m.\u001b[39m_handle_refresh_grant_response(response_data, refresh_token) \u001b[38;5;241m+\u001b[39m (\n\u001b[0;32m    351\u001b[0m     rapt_token,\n\u001b[0;32m    352\u001b[0m )\n",
      "File \u001b[1;32m~\\anaconda3\\lib\\site-packages\\google\\oauth2\\_client.py:69\u001b[0m, in \u001b[0;36m_handle_error_response\u001b[1;34m(response_data, retryable_error)\u001b[0m\n\u001b[0;32m     66\u001b[0m \u001b[38;5;28;01mexcept\u001b[39;00m (\u001b[38;5;167;01mKeyError\u001b[39;00m, \u001b[38;5;167;01mValueError\u001b[39;00m):\n\u001b[0;32m     67\u001b[0m     error_details \u001b[38;5;241m=\u001b[39m json\u001b[38;5;241m.\u001b[39mdumps(response_data)\n\u001b[1;32m---> 69\u001b[0m \u001b[38;5;28;01mraise\u001b[39;00m exceptions\u001b[38;5;241m.\u001b[39mRefreshError(\n\u001b[0;32m     70\u001b[0m     error_details, response_data, retryable\u001b[38;5;241m=\u001b[39mretryable_error\n\u001b[0;32m     71\u001b[0m )\n",
      "\u001b[1;31mRefreshError\u001b[0m: ('invalid_grant: Token has been expired or revoked.', {'error': 'invalid_grant', 'error_description': 'Token has been expired or revoked.'})"
     ]
    }
   ],
   "source": [
    "day = datetime.datetime.now()\n",
    "day = day.strftime(\"%Y-%m-%d\")\n",
    "file_name = f'\\\\amocrm_export_leads_{day}.csv'\n",
    "way_dowload = f'C:\\\\Users\\\\79651\\\\Downloads{file_name}'\n",
    "export_to_googlesheets(way_dowload)"
   ]
  },
  {
   "cell_type": "code",
   "execution_count": null,
   "id": "167b69b5",
   "metadata": {},
   "outputs": [],
   "source": [
    "schedule.every(1).hour.do(export_amo,way = r'C:\\Users\\79651', login1 = 'a.yusupov@domyland.ru', password1 = 'Amsterdamm0725', url1 = 'https://domyland1.amocrm.ru/leads/pipeline/3639910/')"
   ]
  },
  {
   "cell_type": "code",
   "execution_count": null,
   "id": "26b7ac84",
   "metadata": {},
   "outputs": [],
   "source": [
    "while True:\n",
    "    schedule.run_pending()"
   ]
  },
  {
   "cell_type": "code",
   "execution_count": null,
   "id": "5f4821ba",
   "metadata": {},
   "outputs": [],
   "source": [
    "for i in os.listdir(r'C:\\Users\\79651\\Downloads'):\n",
    "    if f'amocrm_export_leads_{day}.csv' == i:\n",
    "           print(1)\n",
    "       # else:\n",
    "            #print(f'amocrm_export_leads_{day}')"
   ]
  },
  {
   "cell_type": "code",
   "execution_count": null,
   "id": "91da83ca",
   "metadata": {},
   "outputs": [],
   "source": []
  }
 ],
 "metadata": {
  "kernelspec": {
   "display_name": "Python 3 (ipykernel)",
   "language": "python",
   "name": "python3"
  },
  "language_info": {
   "codemirror_mode": {
    "name": "ipython",
    "version": 3
   },
   "file_extension": ".py",
   "mimetype": "text/x-python",
   "name": "python",
   "nbconvert_exporter": "python",
   "pygments_lexer": "ipython3",
   "version": "3.9.12"
  }
 },
 "nbformat": 4,
 "nbformat_minor": 5
}
